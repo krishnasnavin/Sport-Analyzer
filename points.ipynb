{
 "cells": [
  {
   "cell_type": "code",
   "execution_count": 3,
   "id": "218a5c15",
   "metadata": {},
   "outputs": [],
   "source": [
    "import cv2\n",
    "import numpy as np\n",
    "\n",
    "# --- Step 1: Manually select 4 points from a frame ---\n",
    "def get_points_from_frame(video_path):\n",
    "    cap = cv2.VideoCapture(video_path)\n",
    "    ret, frame = cap.read()\n",
    "    cap.release()\n",
    "    \n",
    "    if not ret:\n",
    "        raise FileNotFoundError(\"❌ Could not read frame from video\")\n",
    "    \n",
    "    points = []\n",
    "\n",
    "    def click_event(event, x, y, flags, param):\n",
    "        if event == cv2.EVENT_LBUTTONDOWN:\n",
    "            points.append((x, y))\n",
    "            print(f\"Point selected: ({x}, {y})\")\n",
    "            cv2.circle(frame, (x, y), 5, (0, 0, 255), -1)\n",
    "            cv2.imshow(\"Select 4 Points\", frame)\n",
    "\n",
    "    cv2.imshow(\"Select 4 Points\", frame)\n",
    "    cv2.setMouseCallback(\"Select 4 Points\", click_event)\n",
    "\n",
    "    print(\"👉 Click 4 points in order: Top-Left → Top-Right → Bottom-Right → Bottom-Left\")\n",
    "    cv2.waitKey(0)\n",
    "    cv2.destroyAllWindows()\n",
    "\n",
    "    if len(points) != 4:\n",
    "        raise ValueError(\"❌ You must select exactly 4 points.\")\n",
    "    \n",
    "    return np.float32(points)\n",
    "\n",
    "\n",
    "# --- Step 2: Crop using perspective transform ---\n",
    "def crop_video_with_points(input_path, output_path, points):\n",
    "    cap = cv2.VideoCapture(input_path)\n",
    "    fourcc = cv2.VideoWriter_fourcc(*\"mp4v\")\n",
    "    fps = int(cap.get(cv2.CAP_PROP_FPS))\n",
    "\n",
    "    # Destination rectangle size\n",
    "    width = int(max(np.linalg.norm(points[0] - points[1]), np.linalg.norm(points[2] - points[3])))\n",
    "    height = int(max(np.linalg.norm(points[0] - points[3]), np.linalg.norm(points[1] - points[2])))\n",
    "\n",
    "    dst_pts = np.float32([[0, 0], [width-1, 0], [width-1, height-1], [0, height-1]])\n",
    "\n",
    "    # Compute transform matrix\n",
    "    M = cv2.getPerspectiveTransform(points, dst_pts)\n",
    "\n",
    "    out = cv2.VideoWriter(output_path, fourcc, fps, (width, height))\n",
    "\n",
    "    while cap.isOpened():\n",
    "        ret, frame = cap.read()\n",
    "        if not ret:\n",
    "            break\n",
    "        warped = cv2.warpPerspective(frame, M, (width, height))\n",
    "        out.write(warped)\n",
    "\n",
    "    cap.release()\n",
    "    out.release()\n",
    "    print(\"✅ Cropped video saved at:\", output_path)\n",
    "\n",
    "\n",
    "# ----------------------\n",
    "# USAGE\n",
    "# ----------------------\n",
    "video_in = \"E:/tennis_detector/.venv/Tennis - 1.mp4\"\n",
    "cropped_out = \"cropped_input.mp4\"\n",
    "\n",
    "\n"
   ]
  },
  {
   "cell_type": "code",
   "execution_count": 6,
   "id": "0bd88d6c",
   "metadata": {},
   "outputs": [
    {
     "name": "stdout",
     "output_type": "stream",
     "text": [
      "👉 Click 4 points in order: Top-Left → Top-Right → Bottom-Right → Bottom-Left\n"
     ]
    },
    {
     "ename": "ValueError",
     "evalue": "❌ You must select exactly 4 points.",
     "output_type": "error",
     "traceback": [
      "\u001b[31m---------------------------------------------------------------------------\u001b[39m",
      "\u001b[31mValueError\u001b[39m                                Traceback (most recent call last)",
      "\u001b[36mCell\u001b[39m\u001b[36m \u001b[39m\u001b[32mIn[6]\u001b[39m\u001b[32m, line 1\u001b[39m\n\u001b[32m----> \u001b[39m\u001b[32m1\u001b[39m selected_points = \u001b[43mget_points_from_frame\u001b[49m\u001b[43m(\u001b[49m\u001b[43mvideo_in\u001b[49m\u001b[43m)\u001b[49m\n",
      "\u001b[36mCell\u001b[39m\u001b[36m \u001b[39m\u001b[32mIn[3]\u001b[39m\u001b[32m, line 30\u001b[39m, in \u001b[36mget_points_from_frame\u001b[39m\u001b[34m(video_path)\u001b[39m\n\u001b[32m     27\u001b[39m cv2.destroyAllWindows()\n\u001b[32m     29\u001b[39m \u001b[38;5;28;01mif\u001b[39;00m \u001b[38;5;28mlen\u001b[39m(points) != \u001b[32m4\u001b[39m:\n\u001b[32m---> \u001b[39m\u001b[32m30\u001b[39m     \u001b[38;5;28;01mraise\u001b[39;00m \u001b[38;5;167;01mValueError\u001b[39;00m(\u001b[33m\"\u001b[39m\u001b[33m❌ You must select exactly 4 points.\u001b[39m\u001b[33m\"\u001b[39m)\n\u001b[32m     32\u001b[39m \u001b[38;5;28;01mreturn\u001b[39;00m np.float32(points)\n",
      "\u001b[31mValueError\u001b[39m: ❌ You must select exactly 4 points."
     ]
    }
   ],
   "source": [
    "selected_points = get_points_from_frame(video_in)"
   ]
  },
  {
   "cell_type": "code",
   "execution_count": null,
   "id": "87d59729",
   "metadata": {},
   "outputs": [],
   "source": []
  }
 ],
 "metadata": {
  "kernelspec": {
   "display_name": "Python (My Project)",
   "language": "python",
   "name": "my-project-env"
  },
  "language_info": {
   "codemirror_mode": {
    "name": "ipython",
    "version": 3
   },
   "file_extension": ".py",
   "mimetype": "text/x-python",
   "name": "python",
   "nbconvert_exporter": "python",
   "pygments_lexer": "ipython3",
   "version": "3.12.4"
  }
 },
 "nbformat": 4,
 "nbformat_minor": 5
}
